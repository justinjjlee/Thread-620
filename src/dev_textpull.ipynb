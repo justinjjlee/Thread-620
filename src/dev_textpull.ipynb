{
 "metadata": {
  "language_info": {
   "codemirror_mode": {
    "name": "ipython",
    "version": 3
   },
   "file_extension": ".py",
   "mimetype": "text/x-python",
   "name": "python",
   "nbconvert_exporter": "python",
   "pygments_lexer": "ipython3",
   "version": "3.9.1"
  },
  "orig_nbformat": 4,
  "kernelspec": {
   "name": "python3",
   "display_name": "Python 3.9.1 64-bit"
  },
  "interpreter": {
   "hash": "df67e98752399f1df19cca3c6bce828e5600fc8fe66d1d5fce4520b14f4d0349"
  }
 },
 "nbformat": 4,
 "nbformat_minor": 2,
 "cells": [
  {
   "cell_type": "code",
   "execution_count": 1,
   "metadata": {},
   "outputs": [],
   "source": [
    "#pip install beautifulsoup4\n",
    "from bs4 import BeautifulSoup\n",
    "from urllib.request import urlopen"
   ]
  },
  {
   "source": [
    "## Notes & resources\n",
    "https://www.crummy.com/software/BeautifulSoup/bs4/doc/#getting-help\n",
    "\n",
    "### Data source:\n",
    "- Federal Reserve Beige Book\n",
    "https://www.federalreserve.gov/monetarypolicy/beige-book-archive.htm"
   ],
   "cell_type": "markdown",
   "metadata": {}
  },
  {
   "cell_type": "code",
   "execution_count": 62,
   "metadata": {},
   "outputs": [],
   "source": [
    "# Choose URL\n",
    "myurl1 = \"https://www.federalreserve.gov/monetarypolicy/fomcminutes20210428.htm\";\n",
    "myurl2 = \"https://www.federalreserve.gov/monetarypolicy/beigebook202106.htm\"\n",
    "\n",
    "# Pull data\n",
    "html1 = urlopen(myurl2).read()\n",
    "soupified = BeautifulSoup(html1, \"html.parser\")"
   ]
  },
  {
   "source": [
    "Report date intro"
   ],
   "cell_type": "markdown",
   "metadata": {}
  },
  {
   "cell_type": "code",
   "execution_count": 115,
   "metadata": {},
   "outputs": [
    {
     "output_type": "execute_result",
     "data": {
      "text/plain": [
       "<div class=\"panel panel-attachments\">\n",
       "<div class=\"panel-body\">This report was prepared at the Federal Reserve Bank of Cleveland based on information collected on or before May 25, 2021. This document summarizes comments received from contacts outside the Federal Reserve System and is not a commentary on the views of Federal Reserve officials.</div>\n",
       "</div>"
      ]
     },
     "metadata": {},
     "execution_count": 115
    }
   ],
   "source": [
    "intro_block = soupified.find(\"div\", {\"class\": \"panel panel-attachments\"})\n",
    "intro_block"
   ]
  },
  {
   "source": [
    "Overall measurements to start, which goes to Overall Economic Activity in National level."
   ],
   "cell_type": "markdown",
   "metadata": {}
  },
  {
   "cell_type": "code",
   "execution_count": 116,
   "metadata": {},
   "outputs": [
    {
     "output_type": "execute_result",
     "data": {
      "text/plain": [
       "<p><strong>Overall Economic Activity</strong><br/>\n",
       "The national economy expanded at a moderate pace from early April to late May, a somewhat faster rate than the prior reporting period. Several Districts cited the positive effects on the economy of increased vaccination rates and relaxed social distancing measures, while they also noted the adverse impacts of supply chain disruptions. The effects of expanded vaccination rates were perhaps most notable in consumer spending in which increases in leisure travel and restaurant spending augmented ongoing strength in other spending categories. Light vehicle sales remained solid but were often constrained by tight inventories. Factory output increased further even as significant supply chain challenges continued to disrupt production. Manufacturers reported that widespread shortages of materials and labor along with delivery delays made it difficult to get products to customers. Similar challenges persisted in construction. Homebuilders often noted that strong demand, buoyed by low mortgage interest rates, outpaced their capacity to build, leading some to limit sales. Nonresidential construction increased at a moderate pace, on balance, even as contacts in several Districts said that supply chain disruptions pushed costs higher and, in some cases, delayed projects. Demand for professional and business services increased moderately, while demand for transportation services (including at ports) was exceptionally strong. Lending volumes increased modestly, with gains in both household and business loans. Overall, expectations changed little, with contacts optimistic that economic growth will remain solid.</p>"
      ]
     },
     "metadata": {},
     "execution_count": 116
    }
   ],
   "source": [
    "intro_block.find_next(\"p\")"
   ]
  },
  {
   "cell_type": "code",
   "execution_count": 92,
   "metadata": {},
   "outputs": [
    {
     "output_type": "execute_result",
     "data": {
      "text/plain": [
       "<p><strong>Employment and Wages</strong><br/>\n",
       "Staffing levels increased at a relatively steady pace, with two-thirds of Districts reporting modest employment growth over the reporting period and the remainder indicating employment gains were moderate. As the spread of COVID-19 continued to slow, employment growth was strongest in food services, hospitality, and retail. Manufacturers also added workers in several Districts. It remained difficult for many firms to hire new workers, especially low-wage hourly workers, truck drivers, and skilled tradespeople. The lack of job candidates prevented some firms from increasing output and, less commonly, led some businesses to reduce their hours of operation. Overall, wage growth was moderate, and a growing number of firms offered signing bonuses and increased starting wages to attract and retain workers. Contacts expected that labor demand will remain strong, but supply constrained, in the months ahead.</p>"
      ]
     },
     "metadata": {},
     "execution_count": 92
    }
   ],
   "source": [
    "tst = soupified.find(\"strong\", {\"strong\": \"Overall Economic Activity\"})\n",
    "tst = soupified.find(\"strong\", text=\"Overall Economic Activity\").find_next(\"p\")\n",
    "\n",
    "tst"
   ]
  },
  {
   "cell_type": "code",
   "execution_count": 94,
   "metadata": {},
   "outputs": [
    {
     "output_type": "execute_result",
     "data": {
      "text/plain": [
       "bs4.element.Tag"
      ]
     },
     "metadata": {},
     "execution_count": 94
    }
   ],
   "source": [
    "type(tst)"
   ]
  },
  {
   "cell_type": "code",
   "execution_count": 108,
   "metadata": {},
   "outputs": [],
   "source": [
    "str_res = tst.get_text()"
   ]
  },
  {
   "cell_type": "code",
   "execution_count": 112,
   "metadata": {},
   "outputs": [
    {
     "output_type": "execute_result",
     "data": {
      "text/plain": [
       "'Employment and Wages\\nStaffing levels increased at a relatively steady pace, with two-thirds of Districts reporting modest employment growth over the reporting period and the remainder indicating employment gains were moderate. As the spread of COVID-19 continued to slow, employment growth was strongest in food services, hospitality, and retail. Manufacturers also added workers in several Districts. It remained difficult for many firms to hire new workers, especially low-wage hourly workers, truck drivers, and skilled tradespeople. The lack of job candidates prevented some firms from increasing output and, less commonly, led some businesses to reduce their hours of operation. Overall, wage growth was moderate, and a growing number of firms offered signing bonuses and increased starting wages to attract and retain workers. Contacts expected that labor demand will remain strong, but supply constrained, in the months ahead.'"
      ]
     },
     "metadata": {},
     "execution_count": 112
    }
   ],
   "source": [
    "str_res"
   ]
  },
  {
   "source": [
    "District-wide measurement"
   ],
   "cell_type": "markdown",
   "metadata": {}
  },
  {
   "cell_type": "code",
   "execution_count": 125,
   "metadata": {},
   "outputs": [
    {
     "output_type": "stream",
     "name": "stdout",
     "text": [
      "<p><strong>Summary of Economic Activity</strong><br/>\nBusiness activity in the First District expanded at a moderate pace on average, with notable variation across sectors. Restaurant sales were up sharply in recent months, surpassing their comparable 2019 levels. Automobile and home furnishings sales were flat but at very high levels, and a discount retailer saw moderate sales increases. Most manufacturers reported moderate to strong revenue increases, while two had flat but robust sales. Commercial real estate markets were mostly stable but retail leasing increased notably. Residential real estate sales rose moderately as recent data point to increased listings. Labor demand strengthened, but hiring was held back by widespread labor shortages. Amidst intensified recruiting efforts, wage increases varied across sectors. Prices held mostly steady despite growing cost pressures at some businesses, although restaurant prices rose sharply. Contacts generally maintained a cautiously optimistic outlook.</p>\n"
     ]
    }
   ],
   "source": [
    "district_block = soupified.find(\"a\", {\"id\": \"boston\"}).find_next(\"p\")\n",
    "print(district_block)"
   ]
  },
  {
   "source": [
    "And then?"
   ],
   "cell_type": "markdown",
   "metadata": {}
  },
  {
   "cell_type": "code",
   "execution_count": 126,
   "metadata": {},
   "outputs": [
    {
     "output_type": "execute_result",
     "data": {
      "text/plain": [
       "<p><strong>Employment and Wages</strong><br/>\n",
       "Labor demand strengthened but many firms reported difficulties in hiring and retention. Staffing firms reported high demand for labor across a range of sectors. Retail headcounts were level despite accelerating labor demand, as firms—especially restaurants—faced pronounced labor shortages. Manufacturers described ambitious hiring goals: one planned to hire 10,000 workers and another had open positions equal to more than 10 percent of total staff. While the former firm did not anticipate market constraints on labor supply, other manufacturers reported unusual difficulties finding workers. In this context of higher labor demand, wage increases were slight to moderate among manufacturers, wages for restaurant workers also went up, and selected hourly workers enjoyed wage increases of up to 30 percent. Signing bonuses and enhanced recruiting efforts were mentioned with increased frequency. Among the barriers to labor supply, firms cited generous unemployment benefits, childcare responsibilities, and safety concerns.</p>"
      ]
     },
     "metadata": {},
     "execution_count": 126
    }
   ],
   "source": [
    "district_block.find_next(\"p\")"
   ]
  },
  {
   "source": [
    "Let's create a system where I pull everything in the things.\n",
    "\n",
    "It should not be categorical, given the categories vary by district. Do not believe they are consistent...\n",
    "\n",
    "\n",
    "By district - by industry - by period .... Like a panel data.\n",
    "\n",
    "Save in each data frame elements?\n",
    "* Is there a smarter way?\n",
    "\n",
    "Might be good to have summary of sentiment .... for each period."
   ],
   "cell_type": "markdown",
   "metadata": {}
  }
 ]
}