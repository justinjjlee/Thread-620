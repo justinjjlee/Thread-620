{
 "metadata": {
  "language_info": {
   "codemirror_mode": {
    "name": "ipython",
    "version": 3
   },
   "file_extension": ".py",
   "mimetype": "text/x-python",
   "name": "python",
   "nbconvert_exporter": "python",
   "pygments_lexer": "ipython3",
   "version": "3.9.1"
  },
  "orig_nbformat": 4,
  "kernelspec": {
   "name": "python3",
   "display_name": "Python 3.9.1 64-bit"
  },
  "interpreter": {
   "hash": "df67e98752399f1df19cca3c6bce828e5600fc8fe66d1d5fce4520b14f4d0349"
  }
 },
 "nbformat": 4,
 "nbformat_minor": 2,
 "cells": [
  {
   "cell_type": "code",
   "execution_count": 59,
   "metadata": {},
   "outputs": [],
   "source": [
    "#pip install beautifulsoup4\n",
    "from bs4 import BeautifulSoup\n",
    "from urllib.request import urlopen\n",
    "import re # regular expression\n",
    "from datetime import datetime"
   ]
  },
  {
   "source": [
    "## Notes & resources\n",
    "https://www.crummy.com/software/BeautifulSoup/bs4/doc/#getting-help\n",
    "\n",
    "### Data source:\n",
    "- Federal Reserve Beige Book\n",
    "https://www.federalreserve.gov/monetarypolicy/beige-book-archive.htm\n",
    "- Archive from the Federal Reserve Bank of Minneapolis https://www.minneapolisfed.org/region-and-community/regional-economic-indicators/beige-book-archive "
   ],
   "cell_type": "markdown",
   "metadata": {}
  },
  {
   "source": [
    "## Database split\n",
    "Depending on how the format has changed over the years\n",
    "* 1970 - : No format"
   ],
   "cell_type": "markdown",
   "metadata": {}
  },
  {
   "cell_type": "code",
   "execution_count": 111,
   "metadata": {},
   "outputs": [
    {
     "output_type": "execute_result",
     "data": {
      "text/plain": [
       "'https://www.minneapolisfed.org/beige-book-reports/1970/1970-06-su'"
      ]
     },
     "metadata": {},
     "execution_count": 111
    }
   ],
   "source": [
    "# Dates of the fed report in string.\n",
    "\n",
    "str_report_mo_yr = [\n",
    "    \"1970-06\",\n",
    "    \"1970-05\"\n",
    "]\n",
    "\n",
    "# Create dataframe of string in combination \n",
    "str_report = ['https://www.minneapolisfed.org/beige-book-reports/' + iter[0:4] + '/' + iter + '-su' for iter in str_report_mo_yr]\n"
   ]
  },
  {
   "cell_type": "code",
   "execution_count": 112,
   "metadata": {},
   "outputs": [],
   "source": [
    "# start with test 1.\n",
    "myurl2 = str_report[len(str_report)-1]\n",
    "#* Esiers,\n",
    "#* GO through national summary than \n",
    "# Pull data\n",
    "html1 = urlopen(myurl2).read()\n",
    "soupified = BeautifulSoup(html1, \"html.parser\")"
   ]
  },
  {
   "source": [
    "# (1) 1970 - \n",
    "\n",
    "### Pull data"
   ],
   "cell_type": "markdown",
   "metadata": {}
  },
  {
   "cell_type": "code",
   "execution_count": 115,
   "metadata": {},
   "outputs": [
    {
     "output_type": "execute_result",
     "data": {
      "text/plain": [
       "datetime.date(1970, 6, 17)"
      ]
     },
     "metadata": {},
     "execution_count": 115
    }
   ],
   "source": [
    "txt = soupified.find(\"div\", {\"class\": \"col-sm-12 col-lg-8 offset-lg-1\"})\n",
    "# Pull date\n",
    "timeiter = datetime.date(datetime.strptime(txt.find(\"strong\").get_text(), '%B %d, %Y'))"
   ]
  },
  {
   "cell_type": "code",
   "execution_count": 96,
   "metadata": {},
   "outputs": [
    {
     "output_type": "execute_result",
     "data": {
      "text/plain": [
       "<p>This initial report of economic conditions in the 12 Federal Reserve \n",
       "Districts is based on information gathered from directors of the \n",
       "Reserve Banks, conversations with local bankers, businessmen and \n",
       "economists, regular monthly surveys of manufacturing and trade \n",
       "industries conducted by some of the Reserve Banks, and selected \n",
       "statistical measures of regional economic activity.</p>"
      ]
     },
     "metadata": {},
     "execution_count": 96
    }
   ],
   "source": [
    "txt.find_next(\"p\").find_next(\"p\").find_next(\"p\")"
   ]
  },
  {
   "cell_type": "code",
   "execution_count": null,
   "metadata": {},
   "outputs": [],
   "source": []
  }
 ]
}