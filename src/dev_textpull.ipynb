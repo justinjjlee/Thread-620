{
 "metadata": {
  "language_info": {
   "codemirror_mode": {
    "name": "ipython",
    "version": 3
   },
   "file_extension": ".py",
   "mimetype": "text/x-python",
   "name": "python",
   "nbconvert_exporter": "python",
   "pygments_lexer": "ipython3",
   "version": "3.9.1"
  },
  "orig_nbformat": 4,
  "kernelspec": {
   "name": "python3",
   "display_name": "Python 3.9.1 64-bit"
  },
  "interpreter": {
   "hash": "df67e98752399f1df19cca3c6bce828e5600fc8fe66d1d5fce4520b14f4d0349"
  }
 },
 "nbformat": 4,
 "nbformat_minor": 2,
 "cells": [
  {
   "cell_type": "code",
   "execution_count": 284,
   "metadata": {},
   "outputs": [
    {
     "output_type": "stream",
     "name": "stdout",
     "text": [
      "c:\\Users\\justi\\Documents\\GitHub\\Thread-620\\src\n"
     ]
    }
   ],
   "source": [
    "#pip install beautifulsoup4\n",
    "from bs4 import BeautifulSoup\n",
    "from urllib.request import urlopen\n",
    "import re # regular expression\n",
    "from datetime import datetime\n",
    "import pandas as pd \n",
    "import os\n",
    "import time\n",
    "cwd = os.getcwd(); print(cwd)"
   ]
  },
  {
   "cell_type": "code",
   "execution_count": 275,
   "metadata": {},
   "outputs": [],
   "source": [
    "from dev_functions import text_scrap"
   ]
  },
  {
   "source": [
    "### Resources\n",
    "[Python - BeautifulSoup](https://www.crummy.com/software/BeautifulSoup/bs4/doc/#getting-help)\n",
    "\n",
    "## Summary of Commentary on Current Economic Conditions by Federal Reserve District\n",
    "### Data sources\n",
    "- [Federal Reserve - Board Archive](https://www.federalreserve.gov/monetarypolicy/beige-book-archive.htm)\n",
    "- Archive from the [Federal Reserve Bank of Minneapolis](https://www.minneapolisfed.org/region-and-community/regional-economic-indicators/beige-book-archive)  \n",
    "    - Archive [List - National Summary](https://www.minneapolisfed.org/region-and-community/regional-economic-indicators/beige-book-archive)"
   ],
   "cell_type": "markdown",
   "metadata": {}
  },
  {
   "source": [
    "## Database split\n",
    "Depending on how the format has changed over the years\n",
    "* 1970 May - 1980 August: No format"
   ],
   "cell_type": "markdown",
   "metadata": {}
  },
  {
   "source": [
    "# (1) 1970 May - 1980 August\n",
    "\n",
    "## Start with National Summary"
   ],
   "cell_type": "markdown",
   "metadata": {}
  },
  {
   "cell_type": "code",
   "execution_count": 631,
   "metadata": {},
   "outputs": [
    {
     "output_type": "stream",
     "name": "stdout",
     "text": [
      "1970-05-20 national\n",
      "1970-06-17 national\n",
      "1970-07-15 national\n",
      "1970-08-12 national\n",
      "1970-09-09 national\n",
      "1970-10-14 national\n",
      "1970-11-11 national\n",
      "1970-12-09 national\n",
      "1971-01-12 national\n",
      "1971-02-03 national\n",
      "1971-03-09 national\n",
      "1971-04-06 national\n",
      "1971-05-05 national\n",
      "1971-06-02 national\n",
      "1971-07-21 national\n",
      "1971-08-18 national\n",
      "1971-09-15 national\n",
      "1971-10-13 national\n",
      "1971-11-10 national\n",
      "1971-12-08 national\n",
      "1972-02-09 national\n",
      "1972-03-15 national\n",
      "1972-04-12 national\n",
      "1972-05-17 national\n",
      "1972-06-14 national\n",
      "1972-07-18 national\n",
      "1972-08-09 national\n",
      "1972-09-13 national\n",
      "1972-10-11 national\n",
      "1972-11-14 national\n",
      "1972-12-19 national\n",
      "1973-01-10 national\n",
      "1973-02-07 national\n",
      "1973-03-14 national\n",
      "1973-04-11 national\n",
      "1973-05-09 national\n",
      "1973-06-13 national\n",
      "1973-07-11 national\n",
      "1973-08-10 national\n",
      "1973-09-12 national\n",
      "1973-10-10 national\n",
      "1973-11-14 national\n",
      "1973-12-12 national\n",
      "1974-01-16 national\n",
      "1974-02-13 national\n",
      "1974-03-13 national\n",
      "1974-04-10 national\n",
      "1974-05-15 national\n",
      "1974-06-12 national\n",
      "1974-07-10 national\n",
      "1974-08-14 national\n",
      "1974-09-05 national\n",
      "1974-10-09 national\n",
      "1974-11-13 national\n",
      "1974-12-11 national\n",
      "1975-01-15 national\n",
      "1975-02-12 national\n",
      "1975-03-12 national\n",
      "1975-04-09 national\n",
      "1975-05-14 national\n",
      "1975-06-11 national\n",
      "1975-07-09 national\n",
      "1975-08-13 national\n",
      "1975-09-10 national\n",
      "1975-10-21 national\n",
      "1975-11-12 national\n",
      "1975-12-10 national\n",
      "1976-01-14 national\n",
      "1976-02-11 national\n",
      "1976-03-10 national\n",
      "1976-04-14 national\n",
      "1976-05-12 national\n",
      "1976-06-16 national\n",
      "1976-07-14 national\n",
      "1976-08-11 national\n",
      "1976-09-15 national\n",
      "1976-10-13 national\n",
      "1976-11-10 national\n",
      "1976-12-15 national\n",
      "1977-01-13 national\n",
      "1977-02-09 national\n",
      "1977-03-09 national\n",
      "1977-04-12 national\n",
      "1977-05-10 national\n",
      "1977-06-15 national\n",
      "1977-07-13 national\n",
      "1977-08-10 national\n",
      "1977-09-14 national\n",
      "1977-10-11 national\n",
      "1977-11-09 national\n",
      "1977-12-14 national\n",
      "1978-01-11 national\n",
      "1978-02-21 national\n",
      "1978-03-15 national\n",
      "1978-04-12 national\n",
      "1978-05-10 national\n",
      "1978-06-14 national\n",
      "1978-07-12 national\n",
      "1978-08-09 national\n",
      "1978-09-13 national\n",
      "1978-10-11 national\n",
      "1978-11-15 national\n",
      "1978-12-13 national\n",
      "1979-01-31 national\n",
      "1979-03-14 national\n",
      "1979-04-11 national\n",
      "1979-05-16 national\n",
      "1979-07-05 national\n",
      "1979-08-07 national\n",
      "1979-09-12 national\n",
      "1979-10-10 national\n",
      "1979-11-14 national\n",
      "1980-01-29 national\n",
      "1980-03-11 national\n",
      "1980-04-15 national\n",
      "1980-05-14 national\n",
      "1980-07-01 national\n",
      "1980-08-05 national\n",
      "1980-09-09 national\n",
      "1980-10-14 national\n",
      "1980-11-12 national\n",
      "1980-12-10 national\n",
      "1970-05-20 atlanta\n",
      "1970-06-17 atlanta\n",
      "1970-07-15 atlanta\n",
      "1970-08-12 atlanta\n",
      "1970-09-09 atlanta\n",
      "1970-10-14 atlanta\n",
      "1970-11-11 atlanta\n",
      "1970-12-09 atlanta\n",
      "1971-01-12 atlanta\n",
      "1971-02-03 atlanta\n",
      "1971-03-09 atlanta\n",
      "1971-04-06 atlanta\n",
      "1971-05-05 atlanta\n",
      "1971-06-02 atlanta\n",
      "1971-07-21 atlanta\n",
      "1971-08-18 atlanta\n",
      "1971-09-15 atlanta\n",
      "1971-10-13 atlanta\n",
      "1971-11-10 atlanta\n",
      "1971-12-08 atlanta\n",
      "1972-02-09 atlanta\n",
      "1972-03-15 atlanta\n",
      "1972-04-12 atlanta\n",
      "1972-05-17 atlanta\n",
      "1972-06-14 atlanta\n",
      "1972-07-18 atlanta\n",
      "1972-08-09 atlanta\n",
      "1972-09-13 atlanta\n",
      "1972-10-11 atlanta\n",
      "1972-11-14 atlanta\n",
      "1972-12-19 atlanta\n",
      "1973-01-10 atlanta\n",
      "1973-02-07 atlanta\n",
      "1973-03-14 atlanta\n",
      "1973-04-11 atlanta\n",
      "1973-05-09 atlanta\n",
      "1973-06-13 atlanta\n",
      "1973-07-11 atlanta\n",
      "1973-08-10 atlanta\n",
      "1973-09-12 atlanta\n",
      "1973-10-10 atlanta\n",
      "1973-11-14 atlanta\n",
      "1973-12-12 atlanta\n",
      "1974-01-16 atlanta\n",
      "1974-02-13 atlanta\n",
      "1974-03-13 atlanta\n",
      "1974-04-10 atlanta\n",
      "1974-05-15 atlanta\n",
      "1974-06-12 atlanta\n",
      "1974-07-10 atlanta\n",
      "1974-08-14 atlanta\n",
      "1974-09-05 atlanta\n",
      "1974-10-09 atlanta\n",
      "1974-11-13 atlanta\n",
      "1974-12-11 atlanta\n",
      "1975-01-15 atlanta\n",
      "1975-02-12 atlanta\n",
      "1975-03-12 atlanta\n",
      "1975-04-09 atlanta\n",
      "1975-05-14 atlanta\n",
      "1975-06-11 atlanta\n",
      "1975-07-09 atlanta\n",
      "1975-08-13 atlanta\n",
      "1975-09-10 atlanta\n",
      "1975-10-21 atlanta\n",
      "1975-11-12 atlanta\n",
      "1975-12-10 atlanta\n",
      "1976-01-14 atlanta\n",
      "1976-02-11 atlanta\n",
      "1976-03-10 atlanta\n",
      "1976-04-14 atlanta\n",
      "1976-05-12 atlanta\n",
      "1976-06-16 atlanta\n",
      "1976-07-14 atlanta\n",
      "1976-08-11 atlanta\n",
      "1976-09-15 atlanta\n",
      "1976-10-13 atlanta\n",
      "1976-11-10 atlanta\n",
      "1976-12-15 atlanta\n",
      "1977-01-13 atlanta\n",
      "1977-02-09 atlanta\n",
      "1977-03-09 atlanta\n",
      "1977-04-12 atlanta\n",
      "1977-05-10 atlanta\n",
      "1977-06-15 atlanta\n",
      "1977-07-13 atlanta\n",
      "1977-08-10 atlanta\n",
      "1977-09-14 atlanta\n",
      "1977-10-11 atlanta\n",
      "1977-11-09 atlanta\n",
      "1977-12-14 atlanta\n",
      "1978-01-11 atlanta\n",
      "1978-02-21 atlanta\n",
      "1978-03-15 atlanta\n",
      "1978-04-12 atlanta\n",
      "1978-05-10 atlanta\n",
      "1978-06-14 atlanta\n",
      "1978-07-12 atlanta\n",
      "1978-08-09 atlanta\n",
      "1978-09-13 atlanta\n",
      "1978-10-11 atlanta\n",
      "1978-11-15 atlanta\n",
      "1978-12-13 atlanta\n",
      "1979-01-31 atlanta\n",
      "1979-03-14 atlanta\n",
      "1979-04-11 atlanta\n",
      "1979-05-16 atlanta\n",
      "1979-07-05 atlanta\n",
      "1979-08-07 atlanta\n",
      "1979-09-12 atlanta\n",
      "1979-10-10 atlanta\n",
      "1979-11-14 atlanta\n",
      "1980-01-29 atlanta\n",
      "1980-03-11 atlanta\n",
      "1980-04-15 atlanta\n",
      "1980-05-14 atlanta\n",
      "1980-07-01 atlanta\n",
      "1980-08-05 atlanta\n",
      "1980-09-09 atlanta\n",
      "1980-09-09 atlanta\n"
     ]
    },
    {
     "output_type": "error",
     "ename": "AttributeError",
     "evalue": "'NoneType' object has no attribute 'get_text'",
     "traceback": [
      "\u001b[1;31m---------------------------------------------------------------------------\u001b[0m",
      "\u001b[1;31mAttributeError\u001b[0m                            Traceback (most recent call last)",
      "\u001b[1;32mc:\\Users\\justi\\Documents\\GitHub\\Thread-620\\src\\dev_functions.py\u001b[0m in \u001b[0;36m<module>\u001b[1;34m\u001b[0m\n\u001b[0;32m    244\u001b[0m             \u001b[1;31m#df = pd.concat([df, text_scrap(soupified, iter_region[1])])\u001b[0m\u001b[1;33m\u001b[0m\u001b[1;33m\u001b[0m\u001b[1;33m\u001b[0m\u001b[0m\n\u001b[1;32m--> 245\u001b[1;33m             \u001b[0mdf_fin\u001b[0m \u001b[1;33m=\u001b[0m \u001b[0mdf_fin\u001b[0m\u001b[1;33m.\u001b[0m\u001b[0mappend\u001b[0m\u001b[1;33m(\u001b[0m\u001b[0mtext_scrap\u001b[0m\u001b[1;33m(\u001b[0m\u001b[0msoupified\u001b[0m\u001b[1;33m,\u001b[0m \u001b[0miter_region\u001b[0m\u001b[1;33m[\u001b[0m\u001b[1;36m1\u001b[0m\u001b[1;33m]\u001b[0m\u001b[1;33m)\u001b[0m\u001b[1;33m,\u001b[0m \u001b[0mignore_index\u001b[0m \u001b[1;33m=\u001b[0m \u001b[1;32mTrue\u001b[0m\u001b[1;33m)\u001b[0m\u001b[1;33m\u001b[0m\u001b[1;33m\u001b[0m\u001b[0m\n\u001b[0m\u001b[0;32m    246\u001b[0m         \u001b[1;32mexcept\u001b[0m\u001b[1;33m:\u001b[0m \u001b[1;31m# if starting\u001b[0m\u001b[1;33m\u001b[0m\u001b[1;33m\u001b[0m\u001b[0m\n",
      "\u001b[1;32mc:\\Users\\justi\\Documents\\GitHub\\Thread-620\\src\\dev_functions.py\u001b[0m in \u001b[0;36mtext_scrap\u001b[1;34m(soupified, str_region)\u001b[0m\n\u001b[0;32m     35\u001b[0m             \u001b[1;31m# Bodty of text - including the title\u001b[0m\u001b[1;33m\u001b[0m\u001b[1;33m\u001b[0m\u001b[1;33m\u001b[0m\u001b[0m\n\u001b[1;32m---> 36\u001b[1;33m             \u001b[0midx_category\u001b[0m \u001b[1;33m=\u001b[0m \u001b[0mtxt_body\u001b[0m\u001b[1;33m.\u001b[0m\u001b[0mfind\u001b[0m\u001b[1;33m(\u001b[0m\u001b[1;34m\"strong\"\u001b[0m\u001b[1;33m)\u001b[0m\u001b[1;33m.\u001b[0m\u001b[0mget_text\u001b[0m\u001b[1;33m(\u001b[0m\u001b[1;33m)\u001b[0m\u001b[1;33m;\u001b[0m\u001b[1;33m\u001b[0m\u001b[1;33m\u001b[0m\u001b[0m\n\u001b[0m\u001b[0;32m     37\u001b[0m \u001b[1;33m\u001b[0m\u001b[0m\n",
      "\u001b[1;31mAttributeError\u001b[0m: 'NoneType' object has no attribute 'get_text'",
      "\nDuring handling of the above exception, another exception occurred:\n",
      "\u001b[1;31mAttributeError\u001b[0m                            Traceback (most recent call last)",
      "\u001b[1;32mc:\\Users\\justi\\Documents\\GitHub\\Thread-620\\src\\dev_functions.py\u001b[0m in \u001b[0;36m<module>\u001b[1;34m\u001b[0m\n\u001b[0;32m    245\u001b[0m             \u001b[0mdf_fin\u001b[0m \u001b[1;33m=\u001b[0m \u001b[0mdf_fin\u001b[0m\u001b[1;33m.\u001b[0m\u001b[0mappend\u001b[0m\u001b[1;33m(\u001b[0m\u001b[0mtext_scrap\u001b[0m\u001b[1;33m(\u001b[0m\u001b[0msoupified\u001b[0m\u001b[1;33m,\u001b[0m \u001b[0miter_region\u001b[0m\u001b[1;33m[\u001b[0m\u001b[1;36m1\u001b[0m\u001b[1;33m]\u001b[0m\u001b[1;33m)\u001b[0m\u001b[1;33m,\u001b[0m \u001b[0mignore_index\u001b[0m \u001b[1;33m=\u001b[0m \u001b[1;32mTrue\u001b[0m\u001b[1;33m)\u001b[0m\u001b[1;33m\u001b[0m\u001b[1;33m\u001b[0m\u001b[0m\n\u001b[0;32m    246\u001b[0m         \u001b[1;32mexcept\u001b[0m\u001b[1;33m:\u001b[0m \u001b[1;31m# if starting\u001b[0m\u001b[1;33m\u001b[0m\u001b[1;33m\u001b[0m\u001b[0m\n\u001b[1;32m--> 247\u001b[1;33m             \u001b[0mdf_fin\u001b[0m \u001b[1;33m=\u001b[0m \u001b[0mtext_scrap\u001b[0m\u001b[1;33m(\u001b[0m\u001b[0msoupified\u001b[0m\u001b[1;33m,\u001b[0m \u001b[0miter_region\u001b[0m\u001b[1;33m[\u001b[0m\u001b[1;36m1\u001b[0m\u001b[1;33m]\u001b[0m\u001b[1;33m)\u001b[0m\u001b[1;33m\u001b[0m\u001b[1;33m\u001b[0m\u001b[0m\n\u001b[0m",
      "\u001b[1;32mc:\\Users\\justi\\Documents\\GitHub\\Thread-620\\src\\dev_functions.py\u001b[0m in \u001b[0;36mtext_scrap\u001b[1;34m(soupified, str_region)\u001b[0m\n\u001b[0;32m     34\u001b[0m             \u001b[1;31m# print(txt_body)\u001b[0m\u001b[1;33m\u001b[0m\u001b[1;33m\u001b[0m\u001b[1;33m\u001b[0m\u001b[0m\n\u001b[0;32m     35\u001b[0m             \u001b[1;31m# Bodty of text - including the title\u001b[0m\u001b[1;33m\u001b[0m\u001b[1;33m\u001b[0m\u001b[1;33m\u001b[0m\u001b[0m\n\u001b[1;32m---> 36\u001b[1;33m             \u001b[0midx_category\u001b[0m \u001b[1;33m=\u001b[0m \u001b[0mtxt_body\u001b[0m\u001b[1;33m.\u001b[0m\u001b[0mfind\u001b[0m\u001b[1;33m(\u001b[0m\u001b[1;34m\"strong\"\u001b[0m\u001b[1;33m)\u001b[0m\u001b[1;33m.\u001b[0m\u001b[0mget_text\u001b[0m\u001b[1;33m(\u001b[0m\u001b[1;33m)\u001b[0m\u001b[1;33m;\u001b[0m\u001b[1;33m\u001b[0m\u001b[1;33m\u001b[0m\u001b[0m\n\u001b[0m\u001b[0;32m     37\u001b[0m \u001b[1;33m\u001b[0m\u001b[0m\n\u001b[0;32m     38\u001b[0m             \u001b[1;31m# If error, it means there is an overall summary\u001b[0m\u001b[1;33m\u001b[0m\u001b[1;33m\u001b[0m\u001b[1;33m\u001b[0m\u001b[0m\n",
      "\u001b[1;31mAttributeError\u001b[0m: 'NoneType' object has no attribute 'get_text'"
     ]
    }
   ],
   "source": [
    "%run dev_functions.py # last error 1980-09"
   ]
  },
  {
   "cell_type": "code",
   "execution_count": 629,
   "metadata": {},
   "outputs": [
    {
     "output_type": "execute_result",
     "data": {
      "text/plain": [
       "10"
      ]
     },
     "metadata": {},
     "execution_count": 629
    }
   ],
   "source": [
    "len(txt.findAll(\"strong\"))"
   ]
  },
  {
   "cell_type": "code",
   "execution_count": 627,
   "metadata": {},
   "outputs": [
    {
     "output_type": "execute_result",
     "data": {
      "text/plain": [
       "<strong>May 20, 1970</strong>"
      ]
     },
     "metadata": {},
     "execution_count": 627
    }
   ],
   "source": [
    "txt.find_next(\"strong\")"
   ]
  },
  {
   "cell_type": "code",
   "execution_count": 609,
   "metadata": {},
   "outputs": [
    {
     "output_type": "execute_result",
     "data": {
      "text/plain": [
       "          time    region category  \\\n",
       "0   1970-05-20  national  overall   \n",
       "1   1970-06-17  national  overall   \n",
       "2   1970-07-15  national  overall   \n",
       "3   1970-08-12  national  overall   \n",
       "4   1970-09-09  national  overall   \n",
       "..         ...       ...      ...   \n",
       "81  1977-03-09  national  overall   \n",
       "82  1977-04-12  national  overall   \n",
       "83  1977-05-10  national  overall   \n",
       "84  1977-06-15  national  overall   \n",
       "85  1977-07-13  national  overall   \n",
       "\n",
       "                                                 text  \n",
       "0   This initial report of economic conditions in ...  \n",
       "1   Comments on economic conditions in the twelve ...  \n",
       "2   Current comment by businessmen and bankers, as...  \n",
       "3   The consensus of the reports by the twelve Fed...  \n",
       "4   The reports in this Redbook are more optimisti...  \n",
       "..                                                ...  \n",
       "81  \\nThe overall impression that emerges from thi...  \n",
       "82  The recovery has been solidly reestablished, a...  \n",
       "83  The firmer tone asserted in last month's REDBO...  \n",
       "84  The economy continues on a firm upward path, a...  \n",
       "85  Most districts report continued improvement in...  \n",
       "\n",
       "[86 rows x 4 columns]"
      ],
      "text/html": "<div>\n<style scoped>\n    .dataframe tbody tr th:only-of-type {\n        vertical-align: middle;\n    }\n\n    .dataframe tbody tr th {\n        vertical-align: top;\n    }\n\n    .dataframe thead th {\n        text-align: right;\n    }\n</style>\n<table border=\"1\" class=\"dataframe\">\n  <thead>\n    <tr style=\"text-align: right;\">\n      <th></th>\n      <th>time</th>\n      <th>region</th>\n      <th>category</th>\n      <th>text</th>\n    </tr>\n  </thead>\n  <tbody>\n    <tr>\n      <th>0</th>\n      <td>1970-05-20</td>\n      <td>national</td>\n      <td>overall</td>\n      <td>This initial report of economic conditions in ...</td>\n    </tr>\n    <tr>\n      <th>1</th>\n      <td>1970-06-17</td>\n      <td>national</td>\n      <td>overall</td>\n      <td>Comments on economic conditions in the twelve ...</td>\n    </tr>\n    <tr>\n      <th>2</th>\n      <td>1970-07-15</td>\n      <td>national</td>\n      <td>overall</td>\n      <td>Current comment by businessmen and bankers, as...</td>\n    </tr>\n    <tr>\n      <th>3</th>\n      <td>1970-08-12</td>\n      <td>national</td>\n      <td>overall</td>\n      <td>The consensus of the reports by the twelve Fed...</td>\n    </tr>\n    <tr>\n      <th>4</th>\n      <td>1970-09-09</td>\n      <td>national</td>\n      <td>overall</td>\n      <td>The reports in this Redbook are more optimisti...</td>\n    </tr>\n    <tr>\n      <th>...</th>\n      <td>...</td>\n      <td>...</td>\n      <td>...</td>\n      <td>...</td>\n    </tr>\n    <tr>\n      <th>81</th>\n      <td>1977-03-09</td>\n      <td>national</td>\n      <td>overall</td>\n      <td>\\nThe overall impression that emerges from thi...</td>\n    </tr>\n    <tr>\n      <th>82</th>\n      <td>1977-04-12</td>\n      <td>national</td>\n      <td>overall</td>\n      <td>The recovery has been solidly reestablished, a...</td>\n    </tr>\n    <tr>\n      <th>83</th>\n      <td>1977-05-10</td>\n      <td>national</td>\n      <td>overall</td>\n      <td>The firmer tone asserted in last month's REDBO...</td>\n    </tr>\n    <tr>\n      <th>84</th>\n      <td>1977-06-15</td>\n      <td>national</td>\n      <td>overall</td>\n      <td>The economy continues on a firm upward path, a...</td>\n    </tr>\n    <tr>\n      <th>85</th>\n      <td>1977-07-13</td>\n      <td>national</td>\n      <td>overall</td>\n      <td>Most districts report continued improvement in...</td>\n    </tr>\n  </tbody>\n</table>\n<p>86 rows × 4 columns</p>\n</div>"
     },
     "metadata": {},
     "execution_count": 609
    }
   ],
   "source": [
    "df_fin#.iloc[3,3]"
   ]
  },
  {
   "cell_type": "code",
   "execution_count": 615,
   "metadata": {},
   "outputs": [],
   "source": [
    "df_fin.to_csv(\"data_beigebook.txt\", index = False)"
   ]
  },
  {
   "cell_type": "code",
   "execution_count": 616,
   "metadata": {},
   "outputs": [
    {
     "output_type": "execute_result",
     "data": {
      "text/plain": [
       "          time    region category  \\\n",
       "0   1970-05-20  national  overall   \n",
       "1   1970-06-17  national  overall   \n",
       "2   1970-07-15  national  overall   \n",
       "3   1970-08-12  national  overall   \n",
       "4   1970-09-09  national  overall   \n",
       "..         ...       ...      ...   \n",
       "81  1977-03-09  national  overall   \n",
       "82  1977-04-12  national  overall   \n",
       "83  1977-05-10  national  overall   \n",
       "84  1977-06-15  national  overall   \n",
       "85  1977-07-13  national  overall   \n",
       "\n",
       "                                                 text  \n",
       "0   This initial report of economic conditions in ...  \n",
       "1   Comments on economic conditions in the twelve ...  \n",
       "2   Current comment by businessmen and bankers, as...  \n",
       "3   The consensus of the reports by the twelve Fed...  \n",
       "4   The reports in this Redbook are more optimisti...  \n",
       "..                                                ...  \n",
       "81  \\nThe overall impression that emerges from thi...  \n",
       "82  The recovery has been solidly reestablished, a...  \n",
       "83  The firmer tone asserted in last month's REDBO...  \n",
       "84  The economy continues on a firm upward path, a...  \n",
       "85  Most districts report continued improvement in...  \n",
       "\n",
       "[86 rows x 4 columns]"
      ],
      "text/html": "<div>\n<style scoped>\n    .dataframe tbody tr th:only-of-type {\n        vertical-align: middle;\n    }\n\n    .dataframe tbody tr th {\n        vertical-align: top;\n    }\n\n    .dataframe thead th {\n        text-align: right;\n    }\n</style>\n<table border=\"1\" class=\"dataframe\">\n  <thead>\n    <tr style=\"text-align: right;\">\n      <th></th>\n      <th>time</th>\n      <th>region</th>\n      <th>category</th>\n      <th>text</th>\n    </tr>\n  </thead>\n  <tbody>\n    <tr>\n      <th>0</th>\n      <td>1970-05-20</td>\n      <td>national</td>\n      <td>overall</td>\n      <td>This initial report of economic conditions in ...</td>\n    </tr>\n    <tr>\n      <th>1</th>\n      <td>1970-06-17</td>\n      <td>national</td>\n      <td>overall</td>\n      <td>Comments on economic conditions in the twelve ...</td>\n    </tr>\n    <tr>\n      <th>2</th>\n      <td>1970-07-15</td>\n      <td>national</td>\n      <td>overall</td>\n      <td>Current comment by businessmen and bankers, as...</td>\n    </tr>\n    <tr>\n      <th>3</th>\n      <td>1970-08-12</td>\n      <td>national</td>\n      <td>overall</td>\n      <td>The consensus of the reports by the twelve Fed...</td>\n    </tr>\n    <tr>\n      <th>4</th>\n      <td>1970-09-09</td>\n      <td>national</td>\n      <td>overall</td>\n      <td>The reports in this Redbook are more optimisti...</td>\n    </tr>\n    <tr>\n      <th>...</th>\n      <td>...</td>\n      <td>...</td>\n      <td>...</td>\n      <td>...</td>\n    </tr>\n    <tr>\n      <th>81</th>\n      <td>1977-03-09</td>\n      <td>national</td>\n      <td>overall</td>\n      <td>\\nThe overall impression that emerges from thi...</td>\n    </tr>\n    <tr>\n      <th>82</th>\n      <td>1977-04-12</td>\n      <td>national</td>\n      <td>overall</td>\n      <td>The recovery has been solidly reestablished, a...</td>\n    </tr>\n    <tr>\n      <th>83</th>\n      <td>1977-05-10</td>\n      <td>national</td>\n      <td>overall</td>\n      <td>The firmer tone asserted in last month's REDBO...</td>\n    </tr>\n    <tr>\n      <th>84</th>\n      <td>1977-06-15</td>\n      <td>national</td>\n      <td>overall</td>\n      <td>The economy continues on a firm upward path, a...</td>\n    </tr>\n    <tr>\n      <th>85</th>\n      <td>1977-07-13</td>\n      <td>national</td>\n      <td>overall</td>\n      <td>Most districts report continued improvement in...</td>\n    </tr>\n  </tbody>\n</table>\n<p>86 rows × 4 columns</p>\n</div>"
     },
     "metadata": {},
     "execution_count": 616
    }
   ],
   "source": [
    "pd.read_csv(\"data_beigebook.txt\")"
   ]
  },
  {
   "cell_type": "code",
   "execution_count": null,
   "metadata": {},
   "outputs": [],
   "source": []
  }
 ]
}